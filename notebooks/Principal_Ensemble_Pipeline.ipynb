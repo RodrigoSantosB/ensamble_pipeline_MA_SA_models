{
 "cells": [
  {
   "cell_type": "markdown",
   "metadata": {},
   "source": [
    "# Notebook Principal: Pipeline de Ensembles\n",
    "\n",
    "Este notebook organiza o fluxo para ensembles por modelo (tile, imagem, paciente) e entre modelos.\n",
    "\n",
    "Observação: nome e estrutura podem ser ajustados conforme sua confirmação."
   ]
  },
  {
   "cell_type": "markdown",
   "metadata": {},
   "source": [
    "## 1. Introdução e Objetivos\n",
    "- Contexto do projeto\n",
    "- Objetivos dos ensembles por modelo e entre modelos\n",
    "- Organização dos dados e saídas"
   ]
  },
  {
   "cell_type": "markdown",
   "metadata": {},
   "source": [
    "## 2. Configurações e Parâmetros\n",
    "Defina os parâmetros globais do pipeline (modelos, tipo de ensemble, métrica de peso, diretórios)."
   ]
  },
  {
   "cell_type": "code",
   "execution_count": null,
   "metadata": {},
   "outputs": [],
   "source": [
    "import os\n",
    "from modules import BetweenModelsEnsembler, PerModelEnsembler\n",
    "\n",
    "# Configurações padrão (ajuste conforme necessário)\n",
    "MODELOS_ENTRE = ['GGNet', 'MOBNet', 'SHFFNet']\n",
    "ENSEMBLE_TYPE = 'hard_voting'  # 'hard_voting' | 'soft_voting' | 'weighted'\n",
    "WEIGHT_METRIC = 'f1_macro'     # usado apenas com 'weighted'\n",
    "\n",
    "# Diretórios base\n",
    "ROOT = os.path.dirname(os.path.abspath(''))\n",
    "TABLES_DIR = os.path.join(ROOT, 'tables')\n",
    "ENTRE_MODELOS_OUT = os.path.join(TABLES_DIR, 'Ensemble_Between_Models')\n",
    "os.makedirs(ENTRE_MODELOS_OUT, exist_ok=True)\n"
   ]
  },
  {
   "cell_type": "markdown",
   "metadata": {},
   "source": [
    "## 3. Carregamento de Dados\n",
    "Explique/implemente como localizar os CSVs de entrada. Para o PerModelEnsembler,\n",
    "forneça a lista de caminhos para os CSVs de cada fold do modelo escolhido."
   ]
  },
  {
   "cell_type": "code",
   "execution_count": null,
   "metadata": {},
   "outputs": [],
   "source": [
    "# Exemplo: localizar CSVs de um modelo específico\n",
    "import glob\n",
    "\n",
    "MODEL_NAME = 'GGNet'\n",
    "MODEL_CSVS = sorted(glob.glob(os.path.join(TABLES_DIR, MODEL_NAME, '**', '*.csv'), recursive=True))\n",
    "print(f'Encontrados {len(MODEL_CSVS)} CSVs para o modelo {MODEL_NAME}.')\n",
    "MODEL_CSVS[:5]"
   ]
  },
  {
   "cell_type": "markdown",
   "metadata": {},
   "source": [
    "## 4. Ensemble por Modelo (Tile → Image → Patient)\n",
    "Execute o ensemble por modelo nas três etapas."
   ]
  },
  {
   "cell_type": "code",
   "execution_count": null,
   "metadata": {},
   "outputs": [],
   "source": [
    "per_model = PerModelEnsembler(model_name=MODEL_NAME, ensemble_type=ENSEMBLE_TYPE, weight_metric=WEIGHT_METRIC)\n",
    "tile_csv, tile_metrics = per_model.run_tile_level(MODEL_CSVS)\n",
    "print('Tile level salvo em:', tile_csv)\n",
    "image_csv, image_metrics = per_model.run_image_level(MODEL_CSVS)\n",
    "print('Image level salvo em:', image_csv)\n",
    "patient_csv, patient_metrics = per_model.run_patient_level(MODEL_CSVS)\n",
    "print('Patient level salvo em:', patient_csv)"
   ]
  },
  {
   "cell_type": "markdown",
   "metadata": {},
   "source": [
    "## 5. Ensemble Entre Modelos (Tile, Image, Patient)\n",
    "Orquestre o ensemble entre diferentes modelos."
   ]
  },
  {
   "cell_type": "code",
   "execution_count": null,
   "metadata": {},
   "outputs": [],
   "source": [
    "between = BetweenModelsEnsembler(\n",
    "    base_models_parent_directory=TABLES_DIR,\n",
    "    ensemble_save_output_base=ENTRE_MODELOS_OUT,\n",
    "    models_to_include=MODELOS_ENTRE,\n",
    "    ensemble_type=ENSEMBLE_TYPE,\n",
    "    weight_metric=WEIGHT_METRIC,\n",
    ")\n",
    "img_csv, img_metrics = between.run_image_level()\n",
    "tile_csv, tile_metrics = between.run_tile_level()\n",
    "pat_csv, pat_metrics = between.run_patient_level()\n",
    "print(img_csv, tile_csv, pat_csv)"
   ]
  },
  {
   "cell_type": "markdown",
   "metadata": {},
   "source": [
    "## 6. Avaliação de Métricas e Visualizações\n",
    "Carregue os JSONs de métricas e gere gráficos (matriz de confusão, ROC, etc.)."
   ]
  },
  {
   "cell_type": "code",
   "execution_count": null,
   "metadata": {},
   "outputs": [],
   "source": [
    "import json\n",
    "\n",
    "def load_metrics(path):\n",
    "    with open(path, 'r') as f:\n",
    "        return json.load(f)\n",
    "\n",
    "print('Metrics (per-model tile):', load_metrics(tile_metrics))\n",
    "print('Metrics (entre-modelos image):', load_metrics(img_metrics))"
   ]
  },
  {
   "cell_type": "markdown",
   "metadata": {},
   "source": [
    "## 7. Exportação de Resultados\n",
    "Descreva como exportar os CSVs e plots para repositórios de resultados."
   ]
  },
  {
   "cell_type": "markdown",
   "metadata": {},
   "source": [
    "## 8. Próximos Passos\n",
    "- Ajustar nome final do notebook\n",
    "- Refino dos utilitários e visualizações\n",
    "- Automatização de descoberta de CSVs por modelo"
   ]
  }
 ],
 "metadata": {
  "kernelspec": {
   "display_name": "gsubma",
   "language": "python",
   "name": "python3"
  },
  "language_info": {
   "codemirror_mode": {
    "name": "ipython",
    "version": 3
   },
   "file_extension": ".py",
   "mimetype": "text/x-python",
   "name": "python",
   "nbconvert_exporter": "python",
   "pygments_lexer": "ipython3",
   "version": "3.14.0"
  }
 },
 "nbformat": 4,
 "nbformat_minor": 5
}
