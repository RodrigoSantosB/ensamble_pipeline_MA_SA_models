{
 "cells": [
  {
   "cell_type": "markdown",
   "metadata": {},
   "source": [
    "# Pipeline de Ensemble por Modelos (SA → MA)\n",
    "\n",
    "Este notebook detalha, passo a passo, o processo de ensemble em dois níveis:\n",
    "\n",
    "- Single-Architecture (SA): ensemble por modelo, nos níveis Tile → Image → Patient.\n",
    "- Multi-Architecture (MA): ensemble entre diferentes modelos, nos níveis Image → Tile → Patient.\n",
    "\n",
    "Ao final, os artefatos (CSVs e métricas) são organizados em \n",
    "`outputs/tables` (tabelas geradas) e `outputs/results` (artefatos para consulta/apresentação).\n"
   ]
  },
  {
   "cell_type": "markdown",
   "id": "20fca021",
   "metadata": {},
   "source": [
    "## 1. Configuração Geral\n",
    "Defina: modelos a incluir, tipo de ensemble e métrica de peso (quando weighted).\n",
    "Os dados de entrada dos folds por arquitetura estão em `datas/summary_results_<modelo>/`."
   ]
  },
  {
   "cell_type": "code",
   "execution_count": null,
   "id": "42983589",
   "metadata": {},
   "outputs": [
    {
     "name": "stdout",
     "output_type": "stream",
     "text": [
      "[INFO] Imports concluídos.\n"
     ]
    }
   ],
   "source": [
    "import os\n",
    "import modules.flags as flags\n",
    "from modules.runner_sa import run_sa_pipeline\n",
    "from main import discover_model_csvs, resolve_paths_outputs, run_between_models\n",
    "from modules.utils import log\n",
    "print('[INFO] Imports concluídos.')\n"
   ]
  },
  {
   "cell_type": "code",
   "execution_count": 2,
   "id": "85512b28",
   "metadata": {},
   "outputs": [
    {
     "name": "stdout",
     "output_type": "stream",
     "text": [
      "[INFO] Flags definidas: ['patient'] ['soft_voting'] macro_micro\n"
     ]
    }
   ],
   "source": [
    "# Configure as flags de execução\n",
    "flags.GENERATE_LEVELS = ['patient']           # opções: ['tile','image','patient']\n",
    "flags.GENERATE_PLOTS_FOR = ['soft_voting']    # opções: ['hard_voting','soft_voting','weighted']\n",
    "flags.ROC_DETAIL = 'macro_micro'              # opções: 'per_class' ou 'macro_micro'\n",
    "flags.MAX_WORKERS = 4                         # paralelização por modelo\n",
    "flags.USE_THREADS = True                      # recomendado no Windows\n",
    "\n",
    "print('[INFO] Flags definidas:', flags.GENERATE_LEVELS, flags.GENERATE_PLOTS_FOR, flags.ROC_DETAIL)\n"
   ]
  },
  {
   "cell_type": "markdown",
   "id": "7c6d3a8b",
   "metadata": {},
   "source": [
    "## 2. Descoberta dos CSVs de Folds (datas/)\n",
    "Mostra quantos CSVs foram encontrados por arquitetura e um exemplo de arquivo."
   ]
  },
  {
   "cell_type": "code",
   "execution_count": 7,
   "id": "e98f7bc4",
   "metadata": {},
   "outputs": [
    {
     "name": "stdout",
     "output_type": "stream",
     "text": [
      "EFFNet: 10 CSVs encontrados\n",
      "Exemplo: 0903-102424_EFF-NET_fold0_results.csv\n",
      "------------------------------------------------------------\n",
      "GGNet: 10 CSVs encontrados\n",
      "Exemplo: 0710-161214_GoogleNet_fold0_results.csv\n",
      "------------------------------------------------------------\n",
      "MOBNet: 10 CSVs encontrados\n",
      "Exemplo: 0707-213643_MobileNetV2_fold0_results.csv\n",
      "------------------------------------------------------------\n",
      "[INFO] Modelos configurados: ['EFFNet', 'GGNet', 'MOBNet']\n"
     ]
    }
   ],
   "source": [
    "# Descobrir CSVs por modelo e montar configuração do SA\n",
    "MODELS = ['EFFNet', 'GGNet', 'MOBNet']  # ajuste conforme necessário\n",
    "tables_dir, _ = resolve_paths_outputs()\n",
    "models_cfgs = []\n",
    "\n",
    "for m in MODELS:\n",
    "    csvs = discover_model_csvs(m)\n",
    "    print(f'{m}: {len(csvs)} CSVs encontrados')\n",
    "    if csvs:\n",
    "        print('Exemplo:', os.path.basename(csvs[0]))\n",
    "    else:\n",
    "        print('Aviso: nenhum CSV encontrado para', m)\n",
    "    print('-'*60)\n",
    "    \n",
    "    models_cfgs.append({\n",
    "        'model_name': m,\n",
    "        'ensemble_type': 'soft_voting',    # ou 'hard_voting'/'weighted'\n",
    "        'csv_paths': csvs,\n",
    "        'save_output_base': os.path.join(tables_dir, m),\n",
    "    })\n",
    "\n",
    "print(f'[INFO] Modelos configurados: {[cfg['model_name'] for cfg in models_cfgs]}')\n"
   ]
  },
  {
   "cell_type": "markdown",
   "id": "b9bdaacc",
   "metadata": {},
   "source": [
    "## 3. Ensemble por Modelo (SA): Tile → Image → Patient\n",
    "Nesta etapa consolidamos os folds de um mesmo modelo em três níveis.\n",
    "Os resultados são salvos em `outputs/tables/<Modelo>/Ensemble_<level>_<tipo>/`.\n",
    "Depois, exportamos artefatos para `outputs/results/SA/<Modelo>/<tipo>/<Level>/`."
   ]
  },
  {
   "cell_type": "code",
   "execution_count": null,
   "id": "632a579d",
   "metadata": {},
   "outputs": [
    {
     "name": "stdout",
     "output_type": "stream",
     "text": [
      "[16:05:51] [SA] Iniciando execução com paralelização e cache interno (tile → image → patient)...\n"
     ]
    }
   ],
   "source": [
    "# Execução do pipeline SA\n",
    "# -----------------------------------------\n",
    "log(\"[SA] Iniciando execução com paralelização e cache interno (tile → image → patient)...\")\n",
    "results = run_sa_pipeline(models_cfgs)\n",
    "\n",
    "# -----------------------------------------\n",
    "# Sumário dos artefatos gerados\n",
    "# -----------------------------------------\n",
    "log(\"[SA] Sumário dos resultados gerados:\")\n",
    "\n",
    "for cfg, res in zip(models_cfgs, results):\n",
    "    model_name = cfg.get('model_name', 'modelo_desconhecido')\n",
    "    log(f\"── Modelo: {model_name}\")\n",
    "\n",
    "    if isinstance(res, dict):\n",
    "        for lvl in ['tile', 'image', 'patient']:\n",
    "            if lvl in res:\n",
    "                csv_path = res[lvl].get('csv', '—')\n",
    "                out_dir = res[lvl].get('out_dir', '—')\n",
    "                log(f\"    • Nível: {lvl.capitalize()} | CSV: {csv_path} | out_dir: {out_dir}\")\n",
    "            else:\n",
    "                log(f\"    • Nível: {lvl.capitalize()} | [não gerado]\")\n",
    "    else:\n",
    "        log(f\"    ⚠ Erro: {res}\")\n",
    "\n",
    "log(\"[✔] SA finalizado com sucesso.\")\n"
   ]
  },
  {
   "cell_type": "markdown",
   "id": "3923ce17",
   "metadata": {},
   "source": [
    "## 4. Ensemble Entre Modelos (MA)\n",
    "Combina as saídas SA dos modelos selecionados.\n",
    "Os resultados são salvos em `outputs/tables/Ensemble_Between_Models/...` \n",
    "e exportados para `outputs/results/MA/<tipo>/<Level>/`."
   ]
  },
  {
   "cell_type": "code",
   "execution_count": null,
   "id": "cd3b202b",
   "metadata": {},
   "outputs": [
    {
     "name": "stdout",
     "output_type": "stream",
     "text": [
      "\n",
      "[MA] Rodando ensemble entre modelos: soft_voting ...\n",
      "\n",
      "[Image Level] Running ensemble between models: soft_voting ...\n",
      "Saved: c:\\Users\\rodri\\OneDrive - UFPE\\Área de Trabalho\\meu cod\\outputs\\tables\\Ensemble_Between_Models\\ImageLevel_Ensemble_Models_soft_voting\\ensemble_between_models_per_image_soft_voting.csv\n",
      "Metrics: c:\\Users\\rodri\\OneDrive - UFPE\\Área de Trabalho\\meu cod\\outputs\\tables\\Ensemble_Between_Models\\ImageLevel_Ensemble_Models_soft_voting\\metrics_image_level_soft_voting.json\n",
      "\n",
      "[Tile Level] Running ensemble between models: soft_voting ...\n",
      "Saved: c:\\Users\\rodri\\OneDrive - UFPE\\Área de Trabalho\\meu cod\\outputs\\tables\\Ensemble_Between_Models\\TileLevel_Ensemble_Models_soft_voting\\ensemble_between_models_tile_level_soft_voting.csv\n",
      "Metrics: c:\\Users\\rodri\\OneDrive - UFPE\\Área de Trabalho\\meu cod\\outputs\\tables\\Ensemble_Between_Models\\TileLevel_Ensemble_Models_soft_voting\\metrics_tile_level_soft_voting.json\n",
      "\n",
      "[Patient Level] Running ensemble between models: soft_voting ...\n",
      "Saved: c:\\Users\\rodri\\OneDrive - UFPE\\Área de Trabalho\\meu cod\\outputs\\tables\\Ensemble_Between_Models\\PatientLevel_Ensemble_soft_voting\\ensemble_between_models_per_patient_soft_voting.csv\n",
      "Metrics: c:\\Users\\rodri\\OneDrive - UFPE\\Área de Trabalho\\meu cod\\outputs\\tables\\Ensemble_Between_Models\\PatientLevel_Ensemble_soft_voting\\global_metrics_patient_level_soft_voting.json\n",
      "[✔] MA finalizado.\n"
     ]
    }
   ],
   "source": [
    "# Executar ensemble entre modelos (MA) reaproveitando SA pronto\n",
    "# Ajuste ensemble_type e weight_metric conforme necessário\n",
    "ensemble_type = 'soft_voting'\n",
    "weight_metric = 'f1_macro'\n",
    "\n",
    "print(f'\\n[MA] Rodando ensemble entre modelos: {ensemble_type} ...')\n",
    "run_between_models(MODELS, ensemble_type, weight_metric)\n",
    "print('[✔] MA finalizado.')\n"
   ]
  }
 ],
 "metadata": {
  "kernelspec": {
   "display_name": "gsubma",
   "language": "python",
   "name": "python3"
  },
  "language_info": {
   "codemirror_mode": {
    "name": "ipython",
    "version": 3
   },
   "file_extension": ".py",
   "mimetype": "text/x-python",
   "name": "python",
   "nbconvert_exporter": "python",
   "pygments_lexer": "ipython3",
   "version": "3.14.0"
  }
 },
 "nbformat": 4,
 "nbformat_minor": 5
}
