{
  "cells": [
    {
      "cell_type": "markdown",
      "id": "5d417e5c",
      "metadata": {},
      "source": [
        "# Pipeline de Ensemble por Modelos (SA → MA)\n",
        "\n",
        "Este notebook detalha, passo a passo, o processo de ensemble em dois níveis:\n",
        "\n",
        "- Single-Architecture (SA): ensemble por modelo, nos níveis Tile → Image → Patient.\n",
        "- Multi-Architecture (MA): ensemble entre diferentes modelos, nos níveis Image → Tile → Patient.\n",
        "\n",
        "Ao final, os artefatos (CSVs e métricas) são organizados em \n",
        "`outputs/tables` (tabelas geradas) e `outputs/results` (artefatos para consulta/apresentação).\n"
      ]
    },
    {
      "cell_type": "markdown",
      "id": "0b823eb3",
      "metadata": {},
      "source": [
        "## 1. Configuração Geral\n",
        "Defina: modelos a incluir, tipo de ensemble e métrica de peso (quando weighted).\n",
        "Os dados de entrada dos folds por arquitetura estão em `datas/summary_results_<modelo>/`."
      ]
    },
    {
      "cell_type": "code",
      "execution_count": 1,
      "id": "b21fcf9f",
      "metadata": {},
      "outputs": [],
      "source": [
        "import os, glob, json, shutil\n",
        "import numpy as np\n",
        "import pandas as pd\n",
        "import matplotlib.pyplot as plt\n",
        "from modules import PerModelEnsembler, BetweenModelsEnsembler\n",
        "\n",
        "# Modelos a serem incluídos no MA\n",
        "MODELS = ['GGNet', 'MOBNet', 'SHFFNet', 'EffNet', 'MNASNet']\n",
        "\n",
        "# Tipo de ensemble\n",
        "ENSEMBLE_TYPE = 'hard_voting'  # 'hard_voting' | 'soft_voting' | 'weighted'\n",
        "WEIGHT_METRIC = 'f1_macro'     # usado apenas quando ENSEMBLE_TYPE == 'weighted'\n",
        "\n",
        "# Pastas principais\n",
        "ROOT = os.path.dirname(os.path.abspath('__file__'))\n",
        "DATAS_DIR = os.path.join(ROOT, 'datas')\n",
        "OUTPUTS_DIR = os.path.join(ROOT, 'outputs')\n",
        "TABLES_DIR = os.path.join(OUTPUTS_DIR, 'tables')\n",
        "RESULTS_DIR = os.path.join(OUTPUTS_DIR, 'results')\n",
        "\n",
        "os.makedirs(OUTPUTS_DIR, exist_ok=True)\n",
        "os.makedirs(TABLES_DIR, exist_ok=True)\n",
        "os.makedirs(RESULTS_DIR, exist_ok=True)\n",
        "\n",
        "# Função utilitária para localizar CSVs de um modelo em datas/\n",
        "MODEL_SUMMARY_DIRS = {\n",
        "    'GGNet': 'summary_results_ggnet',\n",
        "    'MOBNet': 'summary_results_mobnet',\n",
        "    'SHFFNet': 'summary_results_shffnet',\n",
        "    'EffNet': 'summary_results_effnet',\n",
        "    'MNASNet': 'summary_results_mnasnet',\n",
        "}\n",
        "\n",
        "def discover_model_csvs(model_name: str):\n",
        "    sub = MODEL_SUMMARY_DIRS.get(model_name)\n",
        "    paths = []\n",
        "    if sub:\n",
        "        base = os.path.join(DATAS_DIR, sub)\n",
        "        paths = sorted(glob.glob(os.path.join(base, '*.csv')))\n",
        "    if not paths:\n",
        "        paths = sorted(glob.glob(os.path.join(DATAS_DIR, '**', f'*{model_name}*fold*results*.csv'), recursive=True))\n",
        "    return paths\n",
        "\n",
        "def type_folder_name(ensemble_type: str, weight_metric: str) -> str:\n",
        "    return f'weighted_{weight_metric}' if ensemble_type == 'weighted' else ensemble_type\n"
      ]
    },
    {
      "cell_type": "markdown",
      "id": "3184081b",
      "metadata": {},
      "source": [
        "## 2. Descoberta dos CSVs de Folds (datas/)\n",
        "Mostra quantos CSVs foram encontrados por arquitetura e um exemplo de arquivo."
      ]
    },
    {
      "cell_type": "code",
      "execution_count": 2,
      "id": "0d9f3c3e",
      "metadata": {},
      "outputs": [
        {
          "name": "stdout",
          "output_type": "stream",
          "text": [
            "GGNet: 10 CSVs encontrados\n",
            "Exemplo: 0710-161214_GoogleNet_fold0_results.csv\n",
            "------------------------------------------------------------\n",
            "MOBNet: 10 CSVs encontrados\n",
            "Exemplo: 0707-213643_MobileNetV2_fold0_results.csv\n",
            "------------------------------------------------------------\n",
            "SHFFNet: 10 CSVs encontrados\n",
            "Exemplo: 0711-213955_ShuffleNetV2_fold0_results.csv\n",
            "------------------------------------------------------------\n",
            "EffNet: 10 CSVs encontrados\n",
            "Exemplo: 0903-102424_EFF-NET_fold0_results.csv\n",
            "------------------------------------------------------------\n",
            "MNASNet: 10 CSVs encontrados\n",
            "Exemplo: 0808-163313_MNASNET_fold0_results.csv\n",
            "------------------------------------------------------------\n"
          ]
        }
      ],
      "source": [
        "for m in MODELS:\n",
        "    csvs = discover_model_csvs(m)\n",
        "    print(f'{m}: {len(csvs)} CSVs encontrados')\n",
        "    if csvs:\n",
        "        print('Exemplo:', os.path.basename(csvs[0]))\n",
        "    else:\n",
        "        print('Aviso: nenhum CSV encontrado para', m)\n",
        "    print('-'*60)\n"
      ]
    },
    {
      "cell_type": "markdown",
      "id": "251e2c91",
      "metadata": {},
      "source": [
        "## 3. Ensemble por Modelo (SA): Tile → Image → Patient\n",
        "Nesta etapa consolidamos os folds de um mesmo modelo em três níveis.\n",
        "Os resultados são salvos em `outputs/tables/<Modelo>/Ensemble_<level>_<tipo>/`.\n",
        "Depois, exportamos artefatos para `outputs/results/SA/<Modelo>/<tipo>/<Level>/`."
      ]
    },
    {
      "cell_type": "code",
      "execution_count": 3,
      "id": "70b039a8",
      "metadata": {},
      "outputs": [
        {
          "name": "stdout",
          "output_type": "stream",
          "text": [
            "[SA] Rodando ensemble para GGNet (hard_voting)\n",
            "Tile salvo em: c:\\Users\\rodri\\OneDrive - UFPE\\Área de Trabalho\\meu cod\\outputs\\tables\\GGNet\\Ensemble_tile_level_hard_voting\\ensemble_per_tile_hard_voting.csv\n",
            "Image salvo em: c:\\Users\\rodri\\OneDrive - UFPE\\Área de Trabalho\\meu cod\\outputs\\tables\\GGNet\\Ensemble_image_level_hard_voting\\ensemble_per_image_hard_voting.csv\n",
            "Patient salvo em: c:\\Users\\rodri\\OneDrive - UFPE\\Área de Trabalho\\meu cod\\outputs\\tables\\GGNet\\Ensemble_patient_level_hard_voting\\ensemble_per_patient_hard_voting.csv\n",
            "[SA] Rodando ensemble para MOBNet (hard_voting)\n",
            "Tile salvo em: c:\\Users\\rodri\\OneDrive - UFPE\\Área de Trabalho\\meu cod\\outputs\\tables\\MOBNet\\Ensemble_tile_level_hard_voting\\ensemble_per_tile_hard_voting.csv\n",
            "Image salvo em: c:\\Users\\rodri\\OneDrive - UFPE\\Área de Trabalho\\meu cod\\outputs\\tables\\MOBNet\\Ensemble_image_level_hard_voting\\ensemble_per_image_hard_voting.csv\n",
            "Patient salvo em: c:\\Users\\rodri\\OneDrive - UFPE\\Área de Trabalho\\meu cod\\outputs\\tables\\MOBNet\\Ensemble_patient_level_hard_voting\\ensemble_per_patient_hard_voting.csv\n",
            "[SA] Rodando ensemble para SHFFNet (hard_voting)\n",
            "Tile salvo em: c:\\Users\\rodri\\OneDrive - UFPE\\Área de Trabalho\\meu cod\\outputs\\tables\\SHFFNet\\Ensemble_tile_level_hard_voting\\ensemble_per_tile_hard_voting.csv\n",
            "Image salvo em: c:\\Users\\rodri\\OneDrive - UFPE\\Área de Trabalho\\meu cod\\outputs\\tables\\SHFFNet\\Ensemble_image_level_hard_voting\\ensemble_per_image_hard_voting.csv\n",
            "Patient salvo em: c:\\Users\\rodri\\OneDrive - UFPE\\Área de Trabalho\\meu cod\\outputs\\tables\\SHFFNet\\Ensemble_patient_level_hard_voting\\ensemble_per_patient_hard_voting.csv\n",
            "[SA] Rodando ensemble para EffNet (hard_voting)\n",
            "Tile salvo em: c:\\Users\\rodri\\OneDrive - UFPE\\Área de Trabalho\\meu cod\\outputs\\tables\\EffNet\\Ensemble_tile_level_hard_voting\\ensemble_per_tile_hard_voting.csv\n",
            "Image salvo em: c:\\Users\\rodri\\OneDrive - UFPE\\Área de Trabalho\\meu cod\\outputs\\tables\\EffNet\\Ensemble_image_level_hard_voting\\ensemble_per_image_hard_voting.csv\n",
            "Patient salvo em: c:\\Users\\rodri\\OneDrive - UFPE\\Área de Trabalho\\meu cod\\outputs\\tables\\EffNet\\Ensemble_patient_level_hard_voting\\ensemble_per_patient_hard_voting.csv\n",
            "[SA] Rodando ensemble para MNASNet (hard_voting)\n",
            "Tile salvo em: c:\\Users\\rodri\\OneDrive - UFPE\\Área de Trabalho\\meu cod\\outputs\\tables\\MNASNet\\Ensemble_tile_level_hard_voting\\ensemble_per_tile_hard_voting.csv\n",
            "Image salvo em: c:\\Users\\rodri\\OneDrive - UFPE\\Área de Trabalho\\meu cod\\outputs\\tables\\MNASNet\\Ensemble_image_level_hard_voting\\ensemble_per_image_hard_voting.csv\n",
            "Patient salvo em: c:\\Users\\rodri\\OneDrive - UFPE\\Área de Trabalho\\meu cod\\outputs\\tables\\MNASNet\\Ensemble_patient_level_hard_voting\\ensemble_per_patient_hard_voting.csv\n"
          ]
        }
      ],
      "source": [
        "def export_sa_to_results(model: str, ensemble_type: str, weight_metric: str):\n",
        "    tsub = f'Ensemble_tile_level_{ensemble_type}' if ensemble_type != 'weighted' else 'Ensemble_tile_level_weighted'\n",
        "    isub = f'Ensemble_image_level_{ensemble_type}' if ensemble_type != 'weighted' else 'Ensemble_image_level_weighted'\n",
        "    psub = f'Ensemble_patient_level_{ensemble_type}' if ensemble_type != 'weighted' else 'Ensemble_patient_level_weighted'\n",
        "    type_folder = type_folder_name(ensemble_type, weight_metric)\n",
        "    # Tile\n",
        "    tile_dir = os.path.join(TABLES_DIR, model, tsub)\n",
        "    tile_csv = os.path.join(tile_dir, f'ensemble_per_tile_{ensemble_type}.csv' if ensemble_type!='weighted' else f'ensemble_per_tile_weighted_{weight_metric}.csv')\n",
        "    tile_met = os.path.join(tile_dir, f'global_metrics_tile_level_{ensemble_type}.json' if ensemble_type!='weighted' else f'global_metrics_tile_level_weighted_{weight_metric}.json')\n",
        "    # Image\n",
        "    img_dir = os.path.join(TABLES_DIR, model, isub)\n",
        "    img_csv = os.path.join(img_dir, f'ensemble_per_image_{ensemble_type}.csv' if ensemble_type!='weighted' else f'ensemble_per_image_weighted_{weight_metric}.csv')\n",
        "    img_met = os.path.join(img_dir, f'ensemble_global_metrics_image_level_{ensemble_type}.json' if ensemble_type!='weighted' else 'ensemble_global_metrics_image_level_weighted.json')\n",
        "    # Patient\n",
        "    pat_dir = os.path.join(TABLES_DIR, model, psub)\n",
        "    pat_csv = os.path.join(pat_dir, f'ensemble_per_patient_{ensemble_type}.csv' if ensemble_type!='weighted' else f'ensemble_per_patient_weighted_{weight_metric}.csv')\n",
        "    pat_met = os.path.join(pat_dir, f'global_metrics_patient_level_{ensemble_type}.json' if ensemble_type!='weighted' else f'global_metrics_patient_level_weighted_{weight_metric}.json')\n",
        "    # Exporta\n",
        "    levels = {\n",
        "        'Tile': (tile_csv, tile_met),\n",
        "        'Image': (img_csv, img_met),\n",
        "        'Patient': (pat_csv, pat_met),\n",
        "    }\n",
        "    base = os.path.join(RESULTS_DIR, 'SA', model, type_folder)\n",
        "    os.makedirs(base, exist_ok=True)\n",
        "    for level, (csrc, msrc) in levels.items():\n",
        "        if not (os.path.exists(csrc) and os.path.exists(msrc)):\n",
        "            continue\n",
        "        out_dir = os.path.join(base, level)\n",
        "        os.makedirs(out_dir, exist_ok=True)\n",
        "        shutil.copy2(csrc, os.path.join(out_dir, os.path.basename(csrc)))\n",
        "        shutil.copy2(msrc, os.path.join(out_dir, os.path.basename(msrc)))\n",
        "        # Matriz de confusão (opcional)\n",
        "        try:\n",
        "            with open(msrc, 'r') as f:\n",
        "                m = json.load(f)\n",
        "            cm = m.get('confusion_matrix')\n",
        "            report = m.get('classification_report', {})\n",
        "            labels = [k for k in report.keys() if k not in ('accuracy','macro avg','weighted avg')]\n",
        "            if isinstance(cm, list) and len(labels)>0:\n",
        "                arr = np.array(cm)\n",
        "                fig, ax = plt.subplots(figsize=(6,6))\n",
        "                im = ax.imshow(arr, cmap='Blues')\n",
        "                ax.set_xticks(range(len(labels)))\n",
        "                ax.set_yticks(range(len(labels)))\n",
        "                ax.set_xticklabels(labels, rotation=45, ha='right')\n",
        "                ax.set_yticklabels(labels)\n",
        "                ax.set_xlabel('Predicted')\n",
        "                ax.set_ylabel('True')\n",
        "                fig.colorbar(im, ax=ax)\n",
        "                for i in range(arr.shape[0]):\n",
        "                    for j in range(arr.shape[1]):\n",
        "                        ax.text(j, i, int(arr[i, j]), ha='center', va='center', color='black')\n",
        "                plt.tight_layout()\n",
        "                fig.savefig(os.path.join(out_dir, 'confusion_matrix.png'))\n",
        "                plt.close(fig)\n",
        "        except Exception:\n",
        "            pass\n",
        "\n",
        "for model in MODELS:\n",
        "    csvs = discover_model_csvs(model)\n",
        "    if not csvs:\n",
        "        print('[AVISO] Sem CSVs para', model)\n",
        "        continue\n",
        "    print(f'[SA] Rodando ensemble para {model} ({ENSEMBLE_TYPE})')\n",
        "    per = PerModelEnsembler(model_name=model, ensemble_type=ENSEMBLE_TYPE, weight_metric=WEIGHT_METRIC)\n",
        "    tile_csv, tile_met = per.run_tile_level(csvs)\n",
        "    print('Tile salvo em:', tile_csv)\n",
        "    img_csv, img_met = per.run_image_level(csvs)\n",
        "    print('Image salvo em:', img_csv)\n",
        "    pat_csv, pat_met = per.run_patient_level(csvs)\n",
        "    print('Patient salvo em:', pat_csv)\n",
        "    export_sa_to_results(model, ENSEMBLE_TYPE, WEIGHT_METRIC)\n"
      ]
    },
    {
      "cell_type": "markdown",
      "id": "79e98a08",
      "metadata": {},
      "source": [
        "## 4. Ensemble Entre Modelos (MA)\n",
        "Combina as saídas SA dos modelos selecionados.\n",
        "Os resultados são salvos em `outputs/tables/Ensemble_Between_Models/...` \n",
        "e exportados para `outputs/results/MA/<tipo>/<Level>/`."
      ]
    },
    {
      "cell_type": "code",
      "execution_count": 3,
      "id": "7e6d72a0",
      "metadata": {},
      "outputs": [
        {
          "name": "stdout",
          "output_type": "stream",
          "text": [
            "[MA] Entre Modelos (hard_voting)\n",
            "MA Image salvo em: c:\\Users\\rodri\\OneDrive - UFPE\\Área de Trabalho\\meu cod\\outputs\\tables\\Ensemble_Between_Models\\ImageLevel_Ensemble_Models_hard_voting\\ensemble_between_models_per_image_hard_voting.csv\n",
            "MA Tile salvo em: c:\\Users\\rodri\\OneDrive - UFPE\\Área de Trabalho\\meu cod\\outputs\\tables\\Ensemble_Between_Models\\TileLevel_Ensemble_Models_hard_voting\\ensemble_between_models_tile_level_hard_voting.csv\n",
            "MA Patient salvo em: c:\\Users\\rodri\\OneDrive - UFPE\\Área de Trabalho\\meu cod\\outputs\\tables\\Ensemble_Between_Models\\PatientLevel_Ensemble_hard_voting\\ensemble_between_models_per_patient_hard_voting.csv\n"
          ]
        }
      ],
      "source": [
        "def export_ma_to_results(level: str, csv_path: str, metrics_path: str):\n",
        "    tfolder = type_folder_name(ENSEMBLE_TYPE, WEIGHT_METRIC)\n",
        "    out_dir = os.path.join(RESULTS_DIR, 'MA', tfolder, level)\n",
        "    os.makedirs(out_dir, exist_ok=True)\n",
        "    if os.path.exists(csv_path):\n",
        "        shutil.copy2(csv_path, os.path.join(out_dir, os.path.basename(csv_path)))\n",
        "    if os.path.exists(metrics_path):\n",
        "        shutil.copy2(metrics_path, os.path.join(out_dir, os.path.basename(metrics_path)))\n",
        "        try:\n",
        "            with open(metrics_path, 'r') as f:\n",
        "                m = json.load(f)\n",
        "            cm = m.get('confusion_matrix')\n",
        "            report = m.get('classification_report', {})\n",
        "            labels = [k for k in report.keys() if k not in ('accuracy','macro avg','weighted avg')]\n",
        "            if isinstance(cm, list) and len(labels)>0:\n",
        "                arr = np.array(cm)\n",
        "                fig, ax = plt.subplots(figsize=(6,6))\n",
        "                im = ax.imshow(arr, cmap='Blues')\n",
        "                ax.set_xticks(range(len(labels)))\n",
        "                ax.set_yticks(range(len(labels)))\n",
        "                ax.set_xticklabels(labels, rotation=45, ha='right')\n",
        "                ax.set_yticklabels(labels)\n",
        "                ax.set_xlabel('Predicted')\n",
        "                ax.set_ylabel('True')\n",
        "                fig.colorbar(im, ax=ax)\n",
        "                for i in range(arr.shape[0]):\n",
        "                    for j in range(arr.shape[1]):\n",
        "                        ax.text(j, i, int(arr[i, j]), ha='center', va='center', color='black')\n",
        "                plt.tight_layout()\n",
        "                fig.savefig(os.path.join(out_dir, 'confusion_matrix.png'))\n",
        "                plt.close(fig)\n",
        "        except Exception:\n",
        "            pass\n",
        "\n",
        "print(f'[MA] Entre Modelos ({ENSEMBLE_TYPE})')\n",
        "between = BetweenModelsEnsembler(\n",
        "    base_models_parent_directory=TABLES_DIR,\n",
        "    ensemble_save_output_base=os.path.join(TABLES_DIR, 'Ensemble_Between_Models'),\n",
        "    models_to_include=MODELS,\n",
        "    ensemble_type=ENSEMBLE_TYPE,\n",
        "    weight_metric=WEIGHT_METRIC,\n",
        ")\n",
        "img_csv, img_met = between.run_image_level()\n",
        "print('MA Image salvo em:', img_csv)\n",
        "export_ma_to_results('Image', img_csv, img_met)\n",
        "tile_csv, tile_met = between.run_tile_level()\n",
        "print('MA Tile salvo em:', tile_csv)\n",
        "export_ma_to_results('Tile', tile_csv, tile_met)\n",
        "pat_csv, pat_met = between.run_patient_level()\n",
        "print('MA Patient salvo em:', pat_csv)\n",
        "export_ma_to_results('Patient', pat_csv, pat_met)\n"
      ]
    },
    {
      "cell_type": "markdown",
      "id": "cc01750f",
      "metadata": {},
      "source": [
        "## 5. Visualização e Avaliação de Métricas\n",
        "Carregue os JSONs de métricas e gere gráficos (matriz de confusão, ROC, etc.).\n",
        "Nesta versão, demonstramos leitura de métricas e impressão das principais."
      ]
    },
    {
      "cell_type": "code",
      "execution_count": null,
      "id": "12003f74",
      "metadata": {},
      "outputs": [],
      "source": [
        "def load_metrics(path):\n",
        "    with open(path, 'r') as f:\n",
        "        return json.load(f)\n",
        "\n",
        "# Exemplo: percorre resultados MA Image e imprime métricas principais\n",
        "tfolder = type_folder_name(ENSEMBLE_TYPE, WEIGHT_METRIC)\n",
        "ma_img_dir = os.path.join(RESULTS_DIR, 'MA', tfolder, 'Image')\n",
        "metrics_files = [p for p in glob.glob(os.path.join(ma_img_dir, '*.json'))]\n",
        "for mf in metrics_files:\n",
        "    m = load_metrics(mf)\n",
        "    print('Arquivo:', os.path.basename(mf))\n",
        "    print('Accuracy:', m.get('accuracy'))\n",
        "    print('F1_macro:', m.get('f1_macro'))\n",
        "    print('Recall_weighted:', m.get('recall_weighted'))\n",
        "    print('ROC_AUC_OVR:', m.get('roc_auc_ovr'))\n"
      ]
    },
    {
      "cell_type": "code",
      "execution_count": null,
      "id": "121bf046",
      "metadata": {},
      "outputs": [],
      "source": []
    },
    {
      "cell_type": "markdown",
      "id": "5c49af6e",
      "metadata": {},
      "source": [
        "## 6. Observações e Próximos Passos\n",
        "- A estrutura `datas/summary_results_<modelo>/` é usada como fonte oficial dos folds.\n",
        "- As tabelas geradas (SA e MA) são salvas em `outputs/tables/`.\n",
        "- Artefatos para consulta (CSVs, métricas, gráficos) são espelhados em `outputs/results/`.\n",
        "- Próximos passos sugeridos: adicionar gráficos ROC/PR por classe e um índice consolidado dos resultados."
      ]
    }
  ],
  "metadata": {
    "kernelspec": {
      "display_name": "gsubma",
      "language": "python",
      "name": "python3"
    },
    "language_info": {
      "codemirror_mode": {
        "name": "ipython",
        "version": 3
      },
      "file_extension": ".py",
      "mimetype": "text/x-python",
      "name": "python",
      "nbconvert_exporter": "python",
      "pygments_lexer": "ipython3",
      "version": "3.14.0"
    }
  },
  "nbformat": 4,
  "nbformat_minor": 5
}
